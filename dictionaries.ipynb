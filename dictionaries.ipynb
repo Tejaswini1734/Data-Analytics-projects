{
 "cells": [
  {
   "cell_type": "code",
   "execution_count": 32,
   "id": "a107ab33-3fe5-4f30-a7b3-66bcf0ca55e4",
   "metadata": {},
   "outputs": [
    {
     "data": {
      "text/plain": [
       "'john.doe@gmail.com\\njane.smith@company.org\\nadmin@school.edu\\ncontact@service.net\\ninfo@startup.io\\nsupport@helpdesk.com\\nuser123@yahoo.com\\nteam@organization.org\\ndeveloper@techhub.dev\\nmarketing@brand.co'"
      ]
     },
     "execution_count": 32,
     "metadata": {},
     "output_type": "execute_result"
    }
   ],
   "source": [
    "with open(\"assignment.txt\",\"r\") as file:\n",
    "    x=file.read()\n",
    "x"
   ]
  },
  {
   "cell_type": "code",
   "execution_count": 33,
   "id": "9735ca5c-6de1-4cf8-b74b-86a3c4f66a88",
   "metadata": {},
   "outputs": [
    {
     "data": {
      "text/plain": [
       "['john.doe@gmail.com',\n",
       " 'jane.smith@company.org',\n",
       " 'admin@school.edu',\n",
       " 'contact@service.net',\n",
       " 'info@startup.io',\n",
       " 'support@helpdesk.com',\n",
       " 'user123@yahoo.com',\n",
       " 'team@organization.org',\n",
       " 'developer@techhub.dev',\n",
       " 'marketing@brand.co']"
      ]
     },
     "execution_count": 33,
     "metadata": {},
     "output_type": "execute_result"
    }
   ],
   "source": [
    "x=x.split(\"\\n\")\n",
    "x"
   ]
  },
  {
   "cell_type": "code",
   "execution_count": 34,
   "id": "3837a690-6b9a-4e80-8bfb-4c6e7239b878",
   "metadata": {},
   "outputs": [
    {
     "name": "stdout",
     "output_type": "stream",
     "text": [
      "{'john.doe': 'gmail.com', 'jane.smith': 'company.org', 'admin': 'school.edu', 'contact': 'service.net', 'info': 'startup.io', 'support': 'helpdesk.com', 'user123': 'yahoo.com', 'team': 'organization.org', 'developer': 'techhub.dev', 'marketing': 'brand.co'}\n"
     ]
    }
   ],
   "source": [
    "d={}\n",
    "for i in x:\n",
    "    #email=i.split(\"@\")\n",
    "    #username=email[0]\n",
    "    #domain=email[1]\n",
    "\n",
    "    d[i.split(\"@\")[0]]=i.split(\"@\")[1]    \n",
    "    \n",
    "    #d[username]=domain\n",
    "print(d)"
   ]
  },
  {
   "cell_type": "code",
   "execution_count": 35,
   "id": "31072a62-b747-4288-bcad-d029401174dd",
   "metadata": {},
   "outputs": [
    {
     "data": {
      "text/plain": [
       "\"Harry Potter\\nPhilosopher's Stone (1997)\\nChamber of Secrets (1998) \\nPrisoner of Azkaban (1999)\\nGoblet of Fire (2000)\\nOrder of the Phoenix (2003)\\nHalf-Blood Prince (2005)\\nDeathly Hallows (2007)\\nJK Rowling\\n\\n\""
      ]
     },
     "execution_count": 35,
     "metadata": {},
     "output_type": "execute_result"
    }
   ],
   "source": [
    "with open(\"Harry Potter testing String.txt\",\"r\")as file:\n",
    "    x=file.read()\n",
    "x"
   ]
  },
  {
   "cell_type": "code",
   "execution_count": 36,
   "id": "0869f8b8-edf5-4a1a-ba51-91d4e5aeb43e",
   "metadata": {},
   "outputs": [
    {
     "data": {
      "text/plain": [
       "['Harry Potter',\n",
       " \"Philosopher's Stone (1997)\",\n",
       " 'Chamber of Secrets (1998) ',\n",
       " 'Prisoner of Azkaban (1999)',\n",
       " 'Goblet of Fire (2000)',\n",
       " 'Order of the Phoenix (2003)',\n",
       " 'Half-Blood Prince (2005)',\n",
       " 'Deathly Hallows (2007)',\n",
       " 'JK Rowling']"
      ]
     },
     "execution_count": 36,
     "metadata": {},
     "output_type": "execute_result"
    }
   ],
   "source": [
    "x=x.strip()\n",
    "x=x.split(\"\\n\")\n",
    "x"
   ]
  },
  {
   "cell_type": "code",
   "execution_count": 37,
   "id": "e52be75c-8b92-4ace-8b80-996f3a1c8e25",
   "metadata": {},
   "outputs": [
    {
     "data": {
      "text/plain": [
       "[\"Philosopher's Stone (1997)\",\n",
       " 'Chamber of Secrets (1998) ',\n",
       " 'Prisoner of Azkaban (1999)',\n",
       " 'Goblet of Fire (2000)',\n",
       " 'Order of the Phoenix (2003)',\n",
       " 'Half-Blood Prince (2005)',\n",
       " 'Deathly Hallows (2007)']"
      ]
     },
     "execution_count": 37,
     "metadata": {},
     "output_type": "execute_result"
    }
   ],
   "source": [
    "primarykey = x[0]\n",
    "writer = x[-1]\n",
    "Data = x[1:-1]\n",
    "Data"
   ]
  },
  {
   "cell_type": "code",
   "execution_count": 38,
   "id": "3ad9b0cd-17f6-4ee1-952a-3126a67ac256",
   "metadata": {},
   "outputs": [
    {
     "data": {
      "text/plain": [
       "{'Harry Potter': \"Philosopher's Stone (1997)\"}"
      ]
     },
     "execution_count": 38,
     "metadata": {},
     "output_type": "execute_result"
    }
   ],
   "source": [
    "d={}\n",
    "for i in range(len(Data)):\n",
    "    d[x[0]]=x[1]\n",
    "d"
   ]
  },
  {
   "cell_type": "code",
   "execution_count": 39,
   "id": "c81aa2e3-4e91-4d75-a71e-fac6577941c9",
   "metadata": {},
   "outputs": [
    {
     "data": {
      "text/plain": [
       "['A ', ' B']"
      ]
     },
     "execution_count": 39,
     "metadata": {},
     "output_type": "execute_result"
    }
   ],
   "source": [
    "x=\"A is a friend of B\"\n",
    "x=x.split(\"is a friend of\")\n",
    "x"
   ]
  },
  {
   "cell_type": "code",
   "execution_count": 40,
   "id": "a73c07f6-6acf-419f-be81-23b210deefe5",
   "metadata": {},
   "outputs": [
    {
     "data": {
      "text/plain": [
       "{'Harry Potter 1': None,\n",
       " 'Harry Potter 2': None,\n",
       " 'Harry Potter 3': None,\n",
       " 'Harry Potter 4': None,\n",
       " 'Harry Potter 5': None,\n",
       " 'Harry Potter 6': None,\n",
       " 'Harry Potter 7': None}"
      ]
     },
     "execution_count": 40,
     "metadata": {},
     "output_type": "execute_result"
    }
   ],
   "source": [
    "header={}\n",
    "for i in range(len(Data)):\n",
    "    pkey=primarykey\n",
    "    pkey=pkey+\" \"+str(i+1)\n",
    "    header[pkey]=None\n",
    "header"
   ]
  },
  {
   "cell_type": "code",
   "execution_count": 41,
   "id": "fd8f5bab-2026-4ab0-9e8d-04322caa5098",
   "metadata": {},
   "outputs": [
    {
     "data": {
      "text/plain": [
       "{'Harry Potter 1': {'title': \"Philosopher's Stone \",\n",
       "  'year': 1997,\n",
       "  'author': ' B'},\n",
       " 'Harry Potter 2': {'title': 'Chamber of Secrets ',\n",
       "  'year': 1998,\n",
       "  'author': ' B'},\n",
       " 'Harry Potter 3': {'title': 'Prisoner of Azkaban ',\n",
       "  'year': 1999,\n",
       "  'author': ' B'},\n",
       " 'Harry Potter 4': {'title': 'Goblet of Fire ', 'year': 2000, 'author': ' B'},\n",
       " 'Harry Potter 5': {'title': 'Order of the Phoenix ',\n",
       "  'year': 2003,\n",
       "  'author': ' B'},\n",
       " 'Harry Potter 6': {'title': 'Half-Blood Prince ',\n",
       "  'year': 2005,\n",
       "  'author': ' B'},\n",
       " 'Harry Potter 7': {'title': 'Deathly Hallows ', 'year': 2007, 'author': ' B'}}"
      ]
     },
     "execution_count": 41,
     "metadata": {},
     "output_type": "execute_result"
    }
   ],
   "source": [
    "i=0\n",
    "for j in header:\n",
    "    value=Data[i]\n",
    "    value=value.split(\"(\")\n",
    "    d={}\n",
    "    d['title']=value[0]\n",
    "    d['year']=int(value[1][:4])\n",
    "    d['author']=x[-1]\n",
    "    header[j]=d\n",
    "    i+=1\n",
    "header"
   ]
  },
  {
   "cell_type": "code",
   "execution_count": null,
   "id": "5df9622a-c4d9-45d1-bf25-a107a9cd31bd",
   "metadata": {},
   "outputs": [],
   "source": []
  },
  {
   "cell_type": "code",
   "execution_count": 42,
   "id": "9a34cc82-109d-4388-ab72-4a14749da7c2",
   "metadata": {},
   "outputs": [
    {
     "data": {
      "text/plain": [
       "'Alice Bob\\nAlice Charlie\\nBob David\\nCharlie Emma\\nEmma Frank\\nDavid Grace\\nGrace Henry\\nHenry Alice'"
      ]
     },
     "execution_count": 42,
     "metadata": {},
     "output_type": "execute_result"
    }
   ],
   "source": [
    "with open(\"teeext.txt\",\"r\") as file:\n",
    "    x=file.read()\n",
    "x"
   ]
  },
  {
   "cell_type": "code",
   "execution_count": 43,
   "id": "aeaee879-c9d3-494b-b4de-b46779ad6f8e",
   "metadata": {},
   "outputs": [
    {
     "data": {
      "text/plain": [
       "['Alice Bob',\n",
       " 'Alice Charlie',\n",
       " 'Bob David',\n",
       " 'Charlie Emma',\n",
       " 'Emma Frank',\n",
       " 'David Grace',\n",
       " 'Grace Henry',\n",
       " 'Henry Alice']"
      ]
     },
     "execution_count": 43,
     "metadata": {},
     "output_type": "execute_result"
    }
   ],
   "source": [
    "x=x.split(\"\\n\")\n",
    "x"
   ]
  },
  {
   "cell_type": "code",
   "execution_count": 44,
   "id": "6922a946-d2f8-43f9-8406-4cfe3f39b283",
   "metadata": {},
   "outputs": [
    {
     "data": {
      "text/plain": [
       "['Alice is a friend of Bob',\n",
       " 'Alice is a friend of Charlie',\n",
       " 'Bob is a friend of David',\n",
       " 'Charlie is a friend of Emma',\n",
       " 'Emma is a friend of Frank',\n",
       " 'David is a friend of Grace',\n",
       " 'Grace is a friend of Henry',\n",
       " 'Henry is a friend of Alice']"
      ]
     },
     "execution_count": 44,
     "metadata": {},
     "output_type": "execute_result"
    }
   ],
   "source": [
    "y=[]\n",
    "for i in x:\n",
    "    a=i.split()\n",
    "    b=\" is a friend of \".join(a)\n",
    "    y.append(b)\n",
    "y"
   ]
  },
  {
   "cell_type": "code",
   "execution_count": 45,
   "id": "76a07260-3ecc-4f23-98d4-6a9f2eb07304",
   "metadata": {},
   "outputs": [
    {
     "name": "stdout",
     "output_type": "stream",
     "text": [
      "Alice is a friend of Bob\n",
      "Alice is a friend of Charlie\n",
      "Bob is a friend of David\n",
      "Charlie is a friend of Emma\n",
      "Emma is a friend of Frank\n",
      "David is a friend of Grace\n",
      "Grace is a friend of Henry\n",
      "Henry is a friend of Alice\n"
     ]
    }
   ],
   "source": [
    "y=\"\\n\".join(y)\n",
    "print(y)"
   ]
  },
  {
   "cell_type": "code",
   "execution_count": 46,
   "id": "128d4388-1ada-4f78-97a7-1c4d75020fc0",
   "metadata": {},
   "outputs": [],
   "source": [
    "with open(\"xyz.txt\",\"w\") as f:\n",
    "    f.write(y)"
   ]
  },
  {
   "cell_type": "code",
   "execution_count": 47,
   "id": "989e7d2e-f459-4713-b982-d07f837bce35",
   "metadata": {},
   "outputs": [
    {
     "data": {
      "text/plain": [
       "'Alice is a friend of Bob\\nAlice is a friend of Charlie\\nBob is a friend of David\\nCharlie is a friend of Emma\\nEmma is a friend of Frank\\nDavid is a friend of Grace\\nGrace is a friend of Henry\\nHenry is a friend of Alice'"
      ]
     },
     "execution_count": 47,
     "metadata": {},
     "output_type": "execute_result"
    }
   ],
   "source": [
    "with open(\"xyz.txt\",\"r\") as file:\n",
    "    l=file.read()\n",
    "l"
   ]
  },
  {
   "cell_type": "code",
   "execution_count": 48,
   "id": "975d2ed2-4390-49fa-a9ce-5acb062d0001",
   "metadata": {},
   "outputs": [
    {
     "name": "stdout",
     "output_type": "stream",
     "text": [
      "['Henry Alice']\n"
     ]
    }
   ],
   "source": [
    "ans={}\n",
    "for friends in x:\n",
    "    f=friends.split(\"is a friend of\")\n",
    "print(f)"
   ]
  },
  {
   "cell_type": "code",
   "execution_count": 49,
   "id": "c85cf86b-87e9-449a-9105-85b1dc3b038d",
   "metadata": {},
   "outputs": [
    {
     "data": {
      "text/plain": [
       "\"Harry Potter\\nPhilosopher's Stone (1997)\\nChamber of Secrets (1998) \\nPrisoner of Azkaban (1999)\\nGoblet of Fire (2000)\\nOrder of the Phoenix (2003)\\nHalf-Blood Prince (2005)\\nDeathly Hallows (2007)\\nJK Rowling\\n\\n\""
      ]
     },
     "execution_count": 49,
     "metadata": {},
     "output_type": "execute_result"
    }
   ],
   "source": [
    "with open(\"Harry Potter testing String.txt\",\"r\")as file:\n",
    "    x=file.read()\n",
    "x"
   ]
  },
  {
   "cell_type": "code",
   "execution_count": 50,
   "id": "f635784f-e1ca-4a36-a3cb-5894d4df2dd3",
   "metadata": {},
   "outputs": [
    {
     "data": {
      "text/plain": [
       "['Harry Potter',\n",
       " \"Philosopher's Stone (1997)\",\n",
       " 'Chamber of Secrets (1998) ',\n",
       " 'Prisoner of Azkaban (1999)',\n",
       " 'Goblet of Fire (2000)',\n",
       " 'Order of the Phoenix (2003)',\n",
       " 'Half-Blood Prince (2005)',\n",
       " 'Deathly Hallows (2007)',\n",
       " 'JK Rowling']"
      ]
     },
     "execution_count": 50,
     "metadata": {},
     "output_type": "execute_result"
    }
   ],
   "source": [
    "x=x.strip()\n",
    "x=x.split('\\n')\n",
    "x"
   ]
  },
  {
   "cell_type": "code",
   "execution_count": 51,
   "id": "546ff7cb-fc9c-4617-81d7-a95d5ae417d4",
   "metadata": {},
   "outputs": [],
   "source": [
    "def makebigdict(x):\n",
    "    pkey1=x[0]\n",
    "    data=x[1:-1]\n",
    "    D={}\n",
    "    for i in range(len(data)):\n",
    "        pkey=pkey1+\" \"+str(i+1)\n",
    "        D[pkey]=None\n",
    "    return D\n",
    "D=makebigdict(x)"
   ]
  },
  {
   "cell_type": "code",
   "execution_count": 52,
   "id": "9faeabb9-b42f-4994-9ce4-a0c5beb71dd2",
   "metadata": {},
   "outputs": [
    {
     "name": "stdout",
     "output_type": "stream",
     "text": [
      "{'title': \"Philosopher's Stone \", 'year': '1997', 'author': 'JK Rowling'}\n",
      "{'title': 'Chamber of Secrets ', 'year': '1998', 'author': 'JK Rowling'}\n",
      "{'title': 'Prisoner of Azkaban ', 'year': '1999', 'author': 'JK Rowling'}\n",
      "{'title': 'Goblet of Fire ', 'year': '2000', 'author': 'JK Rowling'}\n",
      "{'title': 'Order of the Phoenix ', 'year': '2003', 'author': 'JK Rowling'}\n",
      "{'title': 'Half-Blood Prince ', 'year': '2005', 'author': 'JK Rowling'}\n",
      "{'title': 'Deathly Hallows ', 'year': '2007', 'author': 'JK Rowling'}\n"
     ]
    }
   ],
   "source": [
    "d={}\n",
    "data=x[1:-1]\n",
    "for i in data:\n",
    "    a=i.split(\"(\")\n",
    "    d['title']=a[0]\n",
    "    d['year']=a[1][:4]\n",
    "    d['author']=x[-1]\n",
    "    print(d)"
   ]
  },
  {
   "cell_type": "code",
   "execution_count": 53,
   "id": "41702dcd-012e-4894-9585-e0f537889124",
   "metadata": {},
   "outputs": [
    {
     "data": {
      "text/plain": [
       "{'Harry Potter 1': {'title': \"Philosopher's Stone \",\n",
       "  'year': '1997',\n",
       "  'author': 'JK Rowling'},\n",
       " 'Harry Potter 2': {'title': 'Chamber of Secrets ',\n",
       "  'year': '1998',\n",
       "  'author': 'JK Rowling'},\n",
       " 'Harry Potter 3': {'title': 'Prisoner of Azkaban ',\n",
       "  'year': '1999',\n",
       "  'author': 'JK Rowling'},\n",
       " 'Harry Potter 4': {'title': 'Goblet of Fire ',\n",
       "  'year': '2000',\n",
       "  'author': 'JK Rowling'},\n",
       " 'Harry Potter 5': {'title': 'Order of the Phoenix ',\n",
       "  'year': '2003',\n",
       "  'author': 'JK Rowling'},\n",
       " 'Harry Potter 6': {'title': 'Half-Blood Prince ',\n",
       "  'year': '2005',\n",
       "  'author': 'JK Rowling'},\n",
       " 'Harry Potter 7': {'title': 'Deathly Hallows ',\n",
       "  'year': '2007',\n",
       "  'author': 'JK Rowling'}}"
      ]
     },
     "execution_count": 53,
     "metadata": {},
     "output_type": "execute_result"
    }
   ],
   "source": [
    "Final_dict={}\n",
    "j=0\n",
    "data=x[1:-1]\n",
    "for k in D:\n",
    "    d={}\n",
    "    i=data[j]\n",
    "    a=i.split('(')\n",
    "    d['title']=a[0]\n",
    "    d['year']=a[1][:4]\n",
    "    d['author']=x[-1]\n",
    "    Final_dict[k]=d\n",
    "    j+=1\n",
    "Final_dict"
   ]
  },
  {
   "cell_type": "code",
   "execution_count": 54,
   "id": "94629b5b-9c8d-4c93-b64e-06dd8061f096",
   "metadata": {},
   "outputs": [
    {
     "name": "stdout",
     "output_type": "stream",
     "text": [
      "Harry Potter 1:{'title': \"Philosopher's Stone \", 'year': '1997', 'author': 'JK Rowling'}\n",
      "Harry Potter 2:{'title': 'Chamber of Secrets ', 'year': '1998', 'author': 'JK Rowling'}\n",
      "Harry Potter 3:{'title': 'Prisoner of Azkaban ', 'year': '1999', 'author': 'JK Rowling'}\n",
      "Harry Potter 4:{'title': 'Goblet of Fire ', 'year': '2000', 'author': 'JK Rowling'}\n",
      "Harry Potter 5:{'title': 'Order of the Phoenix ', 'year': '2003', 'author': 'JK Rowling'}\n",
      "Harry Potter 6:{'title': 'Half-Blood Prince ', 'year': '2005', 'author': 'JK Rowling'}\n",
      "Harry Potter 7:{'title': 'Deathly Hallows ', 'year': '2007', 'author': 'JK Rowling'}\n"
     ]
    }
   ],
   "source": [
    "for m,n in Final_dict.items():\n",
    "    print(f'{m}:{n}')"
   ]
  },
  {
   "cell_type": "code",
   "execution_count": null,
   "id": "af452c0f-804e-417c-9f2a-1345a157b810",
   "metadata": {},
   "outputs": [],
   "source": []
  }
 ],
 "metadata": {
  "kernelspec": {
   "display_name": "Python 3 (ipykernel)",
   "language": "python",
   "name": "python3"
  },
  "language_info": {
   "codemirror_mode": {
    "name": "ipython",
    "version": 3
   },
   "file_extension": ".py",
   "mimetype": "text/x-python",
   "name": "python",
   "nbconvert_exporter": "python",
   "pygments_lexer": "ipython3",
   "version": "3.11.7"
  }
 },
 "nbformat": 4,
 "nbformat_minor": 5
}
